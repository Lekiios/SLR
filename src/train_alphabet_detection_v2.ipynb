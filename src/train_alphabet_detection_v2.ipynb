{
 "cells": [
  {
   "cell_type": "code",
   "id": "initial_id",
   "metadata": {
    "collapsed": true,
    "ExecuteTime": {
     "end_time": "2024-11-17T15:51:56.343560Z",
     "start_time": "2024-11-17T15:51:56.339685Z"
    }
   },
   "source": [
    "# Importing needed libraries\n",
    "import os\n",
    "import pandas as pd\n",
    "import cv2\n",
    "import seaborn as sns\n",
    "import matplotlib.pyplot as plt\n",
    "from sklearn.preprocessing import LabelBinarizer\n",
    "from keras.src.callbacks import ReduceLROnPlateau\n",
    "from keras.src.models import Sequential\n",
    "from keras.src.layers import Conv2D, BatchNormalization, MaxPooling2D, Dense, Flatten, Dropout, Input\n",
    "import numpy as np\n",
    "from sklearn.metrics import classification_report,confusion_matrix"
   ],
   "outputs": [],
   "execution_count": 3
  },
  {
   "metadata": {
    "ExecuteTime": {
     "end_time": "2024-11-17T15:55:06.767036Z",
     "start_time": "2024-11-17T15:55:06.764663Z"
    }
   },
   "cell_type": "code",
   "source": [
    "# Setting the path to the data\n",
    "path = os.path.abspath('')\n",
    "\n",
    "train_path = os.path.join(path, 'dataset', 'ASL_Dataset', 'Train')\n",
    "test_path = os.path.join(path, 'dataset', 'ASL_Dataset', 'Test')"
   ],
   "id": "718d0164585dcfcd",
   "outputs": [],
   "execution_count": 7
  },
  {
   "metadata": {
    "ExecuteTime": {
     "end_time": "2024-11-17T15:51:58.092595Z",
     "start_time": "2024-11-17T15:51:58.084580Z"
    }
   },
   "cell_type": "code",
   "source": [
    "# Label map\n",
    "label_map = {chr(i): i - ord('A') for i in range(ord('A'), ord('Z') + 1)}\n",
    "label_map['Nothing'] = 26\n",
    "label_map['Space'] = 27\n",
    "# Utils functions\n",
    "def set_to_csv(input, output):\n",
    "    # Initialize an empty list to store data\n",
    "    data = []\n",
    "    \n",
    "    # Iterate through each subfolder in the training path\n",
    "    for label_folder in sorted(os.listdir(input)):\n",
    "        folder_path = os.path.join(input, label_folder)\n",
    "        if os.path.isdir(folder_path) and label_folder in label_map:\n",
    "            label = label_map[label_folder]\n",
    "            # Iterate through each image file in the folder\n",
    "            for image_file in os.listdir(folder_path):\n",
    "                image_path = os.path.join(folder_path, image_file)\n",
    "                # Read the image\n",
    "                image = cv2.imread(image_path, cv2.IMREAD_GRAYSCALE)\n",
    "                # Resize to 50x50 pixels\n",
    "                resized_image = cv2.resize(image, (50, 50))\n",
    "                # Flatten the image to a 1D array\n",
    "                flattened_image = resized_image.flatten()\n",
    "                # Append the label and flattened image to the data\n",
    "                data.append([label] + flattened_image.tolist())\n",
    "    \n",
    "    # Create a DataFrame with the data\n",
    "    columns = ['Label'] + [f'Pixel_{i}' for i in range(50 * 50)]\n",
    "    df = pd.DataFrame(data, columns=columns)\n",
    "    \n",
    "    # Save the DataFrame to a CSV file\n",
    "    df.to_csv(output, index=False)\n",
    "    \n",
    "    print(\"CSV file with label mappings created successfully!\")\n"
   ],
   "id": "aafd2280b2301ebd",
   "outputs": [],
   "execution_count": 5
  },
  {
   "metadata": {
    "ExecuteTime": {
     "end_time": "2024-11-17T15:54:50.746982Z",
     "start_time": "2024-11-17T15:52:07.546836Z"
    }
   },
   "cell_type": "code",
   "source": [
    "# Create CSV files for training and testing data\n",
    "set_to_csv(train_path, 'dataset/train.csv')\n",
    "set_to_csv(test_path, 'dataset/test.csv')"
   ],
   "id": "4543561c3b5ca977",
   "outputs": [
    {
     "name": "stdout",
     "output_type": "stream",
     "text": [
      "CSV file with label mappings created successfully!\n"
     ]
    },
    {
     "ename": "FileNotFoundError",
     "evalue": "[Errno 2] No such file or directory: '/home/llaczko/Workspace/HandTracking/dataset/ASL_Dataset/test'",
     "output_type": "error",
     "traceback": [
      "\u001B[0;31m---------------------------------------------------------------------------\u001B[0m",
      "\u001B[0;31mFileNotFoundError\u001B[0m                         Traceback (most recent call last)",
      "Cell \u001B[0;32mIn[6], line 3\u001B[0m\n\u001B[1;32m      1\u001B[0m \u001B[38;5;66;03m# Create CSV files for training and testing data\u001B[39;00m\n\u001B[1;32m      2\u001B[0m set_to_csv(train_path, \u001B[38;5;124m'\u001B[39m\u001B[38;5;124mdataset/train.csv\u001B[39m\u001B[38;5;124m'\u001B[39m)\n\u001B[0;32m----> 3\u001B[0m \u001B[43mset_to_csv\u001B[49m\u001B[43m(\u001B[49m\u001B[43mtest_path\u001B[49m\u001B[43m,\u001B[49m\u001B[43m \u001B[49m\u001B[38;5;124;43m'\u001B[39;49m\u001B[38;5;124;43mdataset/test.csv\u001B[39;49m\u001B[38;5;124;43m'\u001B[39;49m\u001B[43m)\u001B[49m\n",
      "Cell \u001B[0;32mIn[5], line 11\u001B[0m, in \u001B[0;36mset_to_csv\u001B[0;34m(input, output)\u001B[0m\n\u001B[1;32m      8\u001B[0m data \u001B[38;5;241m=\u001B[39m []\n\u001B[1;32m     10\u001B[0m \u001B[38;5;66;03m# Iterate through each subfolder in the training path\u001B[39;00m\n\u001B[0;32m---> 11\u001B[0m \u001B[38;5;28;01mfor\u001B[39;00m label_folder \u001B[38;5;129;01min\u001B[39;00m \u001B[38;5;28msorted\u001B[39m(\u001B[43mos\u001B[49m\u001B[38;5;241;43m.\u001B[39;49m\u001B[43mlistdir\u001B[49m\u001B[43m(\u001B[49m\u001B[38;5;28;43minput\u001B[39;49m\u001B[43m)\u001B[49m):\n\u001B[1;32m     12\u001B[0m     folder_path \u001B[38;5;241m=\u001B[39m os\u001B[38;5;241m.\u001B[39mpath\u001B[38;5;241m.\u001B[39mjoin(\u001B[38;5;28minput\u001B[39m, label_folder)\n\u001B[1;32m     13\u001B[0m     \u001B[38;5;28;01mif\u001B[39;00m os\u001B[38;5;241m.\u001B[39mpath\u001B[38;5;241m.\u001B[39misdir(folder_path) \u001B[38;5;129;01mand\u001B[39;00m label_folder \u001B[38;5;129;01min\u001B[39;00m label_map:\n",
      "\u001B[0;31mFileNotFoundError\u001B[0m: [Errno 2] No such file or directory: '/home/llaczko/Workspace/HandTracking/dataset/ASL_Dataset/test'"
     ]
    }
   ],
   "execution_count": 6
  },
  {
   "metadata": {
    "ExecuteTime": {
     "end_time": "2024-11-17T15:55:18.775915Z",
     "start_time": "2024-11-17T15:55:18.623167Z"
    }
   },
   "cell_type": "code",
   "source": "",
   "id": "58dd0997c1c562a5",
   "outputs": [
    {
     "name": "stdout",
     "output_type": "stream",
     "text": [
      "CSV file with label mappings created successfully!\n"
     ]
    }
   ],
   "execution_count": 8
  }
 ],
 "metadata": {
  "kernelspec": {
   "display_name": "Python 3",
   "language": "python",
   "name": "python3"
  },
  "language_info": {
   "codemirror_mode": {
    "name": "ipython",
    "version": 2
   },
   "file_extension": ".py",
   "mimetype": "text/x-python",
   "name": "python",
   "nbconvert_exporter": "python",
   "pygments_lexer": "ipython2",
   "version": "2.7.6"
  }
 },
 "nbformat": 4,
 "nbformat_minor": 5
}
